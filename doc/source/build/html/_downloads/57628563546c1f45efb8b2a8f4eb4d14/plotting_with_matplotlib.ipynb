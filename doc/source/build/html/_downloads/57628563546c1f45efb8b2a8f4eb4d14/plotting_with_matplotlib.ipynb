{
 "cells": [
  {
   "cell_type": "markdown",
   "id": "0938282b",
   "metadata": {},
   "source": [
    "(plotting_with_matplotlib)=\n",
    "\n",
    "# Plotting with Matplotlib\n",
    "\n",
    "{doc}`Matplotlib <mpl:index>` is the default backend for XGenTS. Although most of the functions in the {ref}`plot <plot_api>` module work seamlessly with any backend, some advanced plots may require the use of backend specific features. In this guide, advanced plotting with Matplotlib will be covered.\n",
    "\n",
    "This page can be downloaded as a {nb-download}`Jupyter notebook <plotting_with_matplotlib.ipynb>`."
   ]
  },
  {
   "cell_type": "code",
   "execution_count": 1,
   "id": "327f337b",
   "metadata": {},
   "outputs": [
    {
     "ename": "ModuleNotFoundError",
     "evalue": "No module named 'xgen'",
     "output_type": "error",
     "traceback": [
      "\u001b[0;31m---------------------------------------------------------------------------\u001b[0m",
      "\u001b[0;31mModuleNotFoundError\u001b[0m                       Traceback (most recent call last)",
      "\u001b[0;32m<ipython-input-1-c946cb358555>\u001b[0m in \u001b[0;36m<module>\u001b[0;34m()\u001b[0m\n\u001b[0;32m----> 1\u001b[0;31m \u001b[0;32mimport\u001b[0m \u001b[0mxgen\u001b[0m \u001b[0;32mas\u001b[0m \u001b[0mxg\u001b[0m\u001b[0;34m\u001b[0m\u001b[0;34m\u001b[0m\u001b[0m\n\u001b[0m\u001b[1;32m      2\u001b[0m \u001b[0;32mimport\u001b[0m \u001b[0mmatplotlib\u001b[0m\u001b[0;34m.\u001b[0m\u001b[0mpyplot\u001b[0m \u001b[0;32mas\u001b[0m \u001b[0mplt\u001b[0m\u001b[0;34m\u001b[0m\u001b[0;34m\u001b[0m\u001b[0m\n\u001b[1;32m      3\u001b[0m \u001b[0;32mimport\u001b[0m \u001b[0mnumpy\u001b[0m \u001b[0;32mas\u001b[0m \u001b[0mnp\u001b[0m\u001b[0;34m\u001b[0m\u001b[0;34m\u001b[0m\u001b[0m\n\u001b[1;32m      4\u001b[0m \u001b[0;34m\u001b[0m\u001b[0m\n\u001b[1;32m      5\u001b[0m \u001b[0maz\u001b[0m\u001b[0;34m.\u001b[0m\u001b[0mstyle\u001b[0m\u001b[0;34m.\u001b[0m\u001b[0muse\u001b[0m\u001b[0;34m(\u001b[0m\u001b[0;34m\"XGenTS-doc\"\u001b[0m\u001b[0;34m)\u001b[0m\u001b[0;34m\u001b[0m\u001b[0;34m\u001b[0m\u001b[0m\n",
      "\u001b[0;31mModuleNotFoundError\u001b[0m: No module named 'xgen'"
     ]
    }
   ],
   "source": [
    "import xgen as xg\n",
    "import matplotlib.pyplot as plt\n",
    "import numpy as np\n",
    "\n",
    "az.style.use(\"XGenTS-doc\")"
   ]
  },
  {
   "cell_type": "markdown",
   "id": "66cd6d8a",
   "metadata": {},
   "source": [
    "## Customizing plots\n",
    "\n",
    "(matplotlib_backend_kwargs)=\n",
    "### Using `backend_kwargs`\n",
    "\n",
    "The `backend_kwargs` argument can be very useful for some specific configuration. That is parameters available in {func}`matplotlib.pyplot.subplots`, which includes {meth}`~matplotlib.figure.Figure.add_subplot` and {class}`~mpl:matplotlib.gridspec.GridSpec` through `subplot_kw` and `gridspec_kw` respectively. As the options available depends on the backend, this parameter is not as flexible as creating custom axes.\n",
    "\n",
    "As an example, the following code changes the `facecolor` from {func}`~matplotlib.pyplot.figure` and the `width_ratios` in the grid layout."
   ]
  },
  {
   "cell_type": "code",
   "execution_count": null,
   "id": "6e29cda5",
   "metadata": {},
   "outputs": [],
   "source": [
    "# load data\n",
    "data = az.load_XGenTS_data('radon')"
   ]
  },
  {
   "cell_type": "code",
   "execution_count": null,
   "id": "5c6e587e",
   "metadata": {},
   "outputs": [],
   "source": [
    "az.plot_posterior(\n",
    "    data,\n",
    "    var_names=[\"g\"],\n",
    "    backend_kwargs={\n",
    "        \"facecolor\": \"#d3d0e3\",\n",
    "        \"gridspec_kw\": {\n",
    "            \"width_ratios\": [6,4]}});"
   ]
  },
  {
   "cell_type": "markdown",
   "id": "7c72105e",
   "metadata": {},
   "source": [
    ":::{caution}\n",
    "The parameters `ncol` and `nrows` from {func}`matplotlib.pyplot.subplots` should not be set using the `backend_kwargs` parameter. Instead, use the param {ref}`grid <common_grid>`\n",
    ":::\n",
    "\n",
    "(matplotlib_show)=\n",
    "### The parameter `show`\n",
    "\n",
    "The parameter `show` calls {func}`matplotlib.pyplot.show` if set to `True`. If `show` is not set, it will take the value from the rcParam `plot.matplotlib.show` which defaults to `False`.\n",
    "\n",
    ":::{note} There are some Matplotlib backends like the inline (default) Jupyter backend that show the plot even if `plt.show` is not called. In such cases, plots will be shown automatically even if `show=False`.\n",
    ":::\n",
    "\n",
    "(matplotlib_ax)=\n",
    "### Defining custom axes\n",
    "\n",
    "The `ax` argument of any `plot` function allows to use created axes manually. In the example, this parameter allows to arrange 2 different plots in a grid, set limit to the x axis and share the axes between the two plots."
   ]
  },
  {
   "cell_type": "code",
   "execution_count": null,
   "id": "b1a89669",
   "metadata": {},
   "outputs": [],
   "source": [
    "# load data\n",
    "observed_data = data.observed_data.y.values\n",
    "# create axes\n",
    "_, ax = plt.subplots(2, 1, sharex=True, sharey=True, figsize=(6, 6))\n",
    "ax[0].set_xlim(xmin=observed_data.min() - 1, xmax=observed_data.max() + 1)\n",
    "# plot\n",
    "az.plot_ppc(data, group=\"prior\", num_pp_samples=100, ax=ax[0])\n",
    "az.plot_ppc(data, group=\"posterior\", num_pp_samples=100, ax=ax[1]);"
   ]
  },
  {
   "cell_type": "markdown",
   "id": "ac6b67ce",
   "metadata": {},
   "source": [
    "### Extending XGenTS-Matplotlib plots\n",
    "\n",
    "As an XGenTS plot returns an {class}`~matplotlib.axes.Axes` object, different Matplotlib plots can be added to a plot generated with XGenTS:"
   ]
  },
  {
   "cell_type": "code",
   "execution_count": null,
   "id": "1a30b5ca",
   "metadata": {},
   "outputs": [],
   "source": [
    "# load data\n",
    "data = az.load_XGenTS_data('regression1d')\n",
    "X = data.observed_data.y_dim_0\n",
    "Y = data.observed_data.y\n",
    "y_pp = data.posterior_predictive.y\n",
    "# plot\n",
    "ax = az.plot_hdi(X, y_pp, color=\"#b5a7b6\")\n",
    "ax.scatter(X, Y, c=\"#0d7591\");"
   ]
  },
  {
   "cell_type": "markdown",
   "id": "97e17900",
   "metadata": {},
   "source": [
    "Similarly, custom axes allow to display XGenTS and Matplotlib plots in the same grid. In this example, the plot in `ax1` has an XGenTS plot modified with a Matplotlib plot and the `ax2` has a `scatter` created using Matplotlib."
   ]
  },
  {
   "cell_type": "code",
   "execution_count": null,
   "id": "fadc84f1",
   "metadata": {},
   "outputs": [],
   "source": [
    "# create axes\n",
    "_, (ax1, ax2) = plt.subplots(1, 2, figsize=(12, 6), sharey=True)\n",
    "# plot ax1\n",
    "az.plot_hdi(X, y_pp, color=\"#b5a7b6\", ax=ax1)\n",
    "ax1.plot(X, y_pp.mean(axis=(0, 1)), c=\"black\")\n",
    "# plot ax2\n",
    "ax2.scatter(X, Y, c=\"#0d7591\");"
   ]
  }
 ],
 "metadata": {
  "jupytext": {
   "text_representation": {
    "extension": ".md",
    "format_name": "myst"
   }
  },
  "kernelspec": {
   "display_name": "Python 3 (ipykernel)",
   "language": "python",
   "name": "python3"
  },
  "language_info": {
   "codemirror_mode": {
    "name": "ipython",
    "version": 3
   },
   "file_extension": ".py",
   "mimetype": "text/x-python",
   "name": "python",
   "nbconvert_exporter": "python",
   "pygments_lexer": "ipython3",
   "version": "3.7.3"
  },
  "source_map": [
   10,
   20,
   26,
   37,
   42,
   50,
   69,
   78,
   84,
   93,
   97
  ]
 },
 "nbformat": 4,
 "nbformat_minor": 5
}