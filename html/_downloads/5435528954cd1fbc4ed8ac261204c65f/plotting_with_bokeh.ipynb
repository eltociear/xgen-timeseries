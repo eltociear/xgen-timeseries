{
 "cells": [
  {
   "cell_type": "markdown",
   "id": "96cf21b8",
   "metadata": {},
   "source": [
    "(plotting_with_bokeh)=\n",
    "\n",
    "# Plotting with Bokeh\n",
    "\n",
    "XGenTS has the option to use {doc}`Bokeh <bokeh:index>` as backend which offers interactive plots. Although most of the functions in the {ref}`plot <plot_api>` module work seamlessly with any backend, some advanced plots may require the use of backend specific features. In this guide, advanced plotting with Bokeh will be covered.\n",
    "\n",
    "This page can be downloaded as a {nb-download}`Jupyter notebook <plotting_with_bokeh.ipynb>`."
   ]
  },
  {
   "cell_type": "code",
   "execution_count": 1,
   "id": "34b0cb93",
   "metadata": {},
   "outputs": [
    {
     "ename": "ModuleNotFoundError",
     "evalue": "No module named 'xgen'",
     "output_type": "error",
     "traceback": [
      "\u001b[0;31m---------------------------------------------------------------------------\u001b[0m",
      "\u001b[0;31mModuleNotFoundError\u001b[0m                       Traceback (most recent call last)",
      "\u001b[0;32m<ipython-input-1-247d133a7542>\u001b[0m in \u001b[0;36m<module>\u001b[0;34m()\u001b[0m\n\u001b[0;32m----> 1\u001b[0;31m \u001b[0;32mimport\u001b[0m \u001b[0mxgen\u001b[0m \u001b[0;32mas\u001b[0m \u001b[0mxg\u001b[0m\u001b[0;34m\u001b[0m\u001b[0;34m\u001b[0m\u001b[0m\n\u001b[0m\u001b[1;32m      2\u001b[0m \u001b[0;32mimport\u001b[0m \u001b[0mmatplotlib\u001b[0m\u001b[0;34m.\u001b[0m\u001b[0mpyplot\u001b[0m \u001b[0;32mas\u001b[0m \u001b[0mplt\u001b[0m\u001b[0;34m\u001b[0m\u001b[0;34m\u001b[0m\u001b[0m\n\u001b[1;32m      3\u001b[0m \u001b[0;32mimport\u001b[0m \u001b[0mnumpy\u001b[0m \u001b[0;32mas\u001b[0m \u001b[0mnp\u001b[0m\u001b[0;34m\u001b[0m\u001b[0;34m\u001b[0m\u001b[0m\n\u001b[1;32m      4\u001b[0m \u001b[0;34m\u001b[0m\u001b[0m\n\u001b[1;32m      5\u001b[0m \u001b[0maz\u001b[0m\u001b[0;34m.\u001b[0m\u001b[0mstyle\u001b[0m\u001b[0;34m.\u001b[0m\u001b[0muse\u001b[0m\u001b[0;34m(\u001b[0m\u001b[0;34m\"XGenTS-doc\"\u001b[0m\u001b[0;34m)\u001b[0m\u001b[0;34m\u001b[0m\u001b[0;34m\u001b[0m\u001b[0m\n",
      "\u001b[0;31mModuleNotFoundError\u001b[0m: No module named 'xgen'"
     ]
    }
   ],
   "source": [
    "import xgen as xg\n",
    "import matplotlib.pyplot as plt\n",
    "import numpy as np\n",
    "\n",
    "az.style.use(\"XGenTS-doc\")\n",
    "\n",
    "# Confgure Bokeh as backend\n",
    "az.rcParams[\"plot.backend\"] = \"bokeh\"\n",
    "az.output_notebook()"
   ]
  },
  {
   "cell_type": "markdown",
   "id": "21e5be30",
   "metadata": {},
   "source": [
    ":::{note}\n",
    "To display the plots as output in a Jupyter notebook, it's required to call the function  {func}`XGenTS.output_notebook` beforehand.\n",
    ":::\n",
    "\n",
    "\n",
    "## Customizing plots\n",
    "\n",
    "(bokeh_backend_kwargs)=\n",
    "### Using `backend_kwargs`\n",
    "\n",
    "The `backend_kwargs` argument can be very useful for some specific configuration. That is parameters available in {class}`bokeh:bokeh.plotting.figure.Figure`. As the options available depends on the backend, this parameter is not as flexible as creating custom axes.\n",
    "\n",
    "As an example, the following code changes the color background and the plot width."
   ]
  },
  {
   "cell_type": "code",
   "execution_count": null,
   "id": "a43e1593",
   "metadata": {},
   "outputs": [],
   "source": [
    "# load data\n",
    "data = az.load_XGenTS_data('radon')"
   ]
  },
  {
   "cell_type": "code",
   "execution_count": null,
   "id": "058a67de",
   "metadata": {},
   "outputs": [],
   "source": [
    "az.plot_posterior(\n",
    "    data,\n",
    "    var_names=[\"g\"],\n",
    "    backend_kwargs={\"width\": 350,\n",
    "                    \"background_fill_color\": \"#d3d0e3\"});"
   ]
  },
  {
   "cell_type": "markdown",
   "id": "ee6bbc8d",
   "metadata": {},
   "source": [
    "(bokeh_show)=\n",
    "### The parameter `show`\n",
    "\n",
    "The parameter `show` is used to control whether the plot is displayed or not. This behavior can be useful when a plot will be displayed in a grid as the example in the following section.\n",
    "\n",
    "\n",
    "(bokeh_ax)=\n",
    "### Defining custom axes\n",
    "\n",
    "The `ax` argument of any `plot` function allows to use created axes manually. In the example, this parameter allows to arrange 2 different plots in a grid, set limit to the x axis and share the axes' ranges between the two plots."
   ]
  },
  {
   "cell_type": "code",
   "execution_count": null,
   "id": "048f7900",
   "metadata": {},
   "outputs": [],
   "source": [
    "from bokeh.io import show\n",
    "from bokeh.layouts import row\n",
    "from bokeh.plotting import figure\n",
    "\n",
    "# load data\n",
    "observed_data = data.observed_data.y.to_numpy()\n",
    "# create axes\n",
    "f1 = figure(x_range=(observed_data.min() - 1, observed_data.max() + 1))\n",
    "f2 = figure(x_range=f1.x_range, y_range=f1.y_range)\n",
    "# plot\n",
    "az.plot_ppc(data, group=\"prior\", num_pp_samples=100, show=False, ax=f1)\n",
    "az.plot_ppc(data, group=\"posterior\", num_pp_samples=100, show=False, ax=f2)\n",
    "\n",
    "az.show_layout([[f1], [f2]])"
   ]
  },
  {
   "cell_type": "markdown",
   "id": "183b9aad",
   "metadata": {},
   "source": [
    ":::{note}\n",
    "{func}`XGenTS.show_layout` creates a bokeh layout and calls shows if `show=True`, which is the default value.\n",
    ":::\n",
    "\n",
    "### Extending XGenTS-Bokeh plots\n",
    "\n",
    "XGenTS plot returns a {class}`~bokeh.plotting.Figure` object, therefore different Bokeh plots can be added to a plot created using XGenTS:"
   ]
  },
  {
   "cell_type": "code",
   "execution_count": null,
   "id": "09261449",
   "metadata": {},
   "outputs": [],
   "source": [
    "# load data\n",
    "data = az.load_XGenTS_data('regression1d')\n",
    "X = data.observed_data.y_dim_0.values\n",
    "Y = data.observed_data.y.values\n",
    "y_pp = data.posterior_predictive.y.values\n",
    "# plot\n",
    "f1 = figure(plot_width=600, plot_height=600, toolbar_location=\"below\")\n",
    "az.plot_hdi(X, y_pp, color=\"#b5a7b6\", show=False, ax=f1)\n",
    "f1.scatter(X, Y, marker=\"circle\", fill_color=\"#0d7591\")\n",
    "\n",
    "show(f1)"
   ]
  },
  {
   "cell_type": "markdown",
   "id": "e4808088",
   "metadata": {},
   "source": [
    "Similarly, custom axes allow to display XGenTS and Bokeh plots in the same grid. In this example, the plot in `f1` has an XGenTS plot extended with a Bokeh plot and `f2` has a `scatter` created using Bokeh directly."
   ]
  },
  {
   "cell_type": "code",
   "execution_count": null,
   "id": "4f34260c",
   "metadata": {},
   "outputs": [],
   "source": [
    "# load data\n",
    "observed_data = data.observed_data.y.values\n",
    "# create axes\n",
    "f1 = figure(plot_width=400, plot_height=400, toolbar_location=\"below\")\n",
    "f2 = figure(plot_width=400, plot_height=400, toolbar_location=\"below\")\n",
    "# plot\n",
    "az.plot_hdi(X, y_pp, color=\"#b5a7b6\", show=False, ax=f1)\n",
    "f1.line(X, y_pp.mean(axis=(0, 1)), color=\"black\")\n",
    "f2.scatter(X, Y, marker=\"circle\", fill_color=\"#0d7591\")\n",
    "\n",
    "show(row(f1, f2))"
   ]
  },
  {
   "cell_type": "markdown",
   "id": "a94e88b1",
   "metadata": {},
   "source": [
    "## Bokeh with Jupyter\n",
    "\n",
    ":::{note}\n",
    "In Juptyer notebooks, XGenTS offers {func}`XGenTS.output_notebook` which is a wrapper over {func}`bokeh.io.output.output_notebook`.\n",
    "\n",
    "To use Bokeh with JupyterLab, JupyterLab and widgets, please refer to this {ref}`user guide <bokeh:userguide_jupyter>`.\n",
    ":::\n",
    "\n",
    "\n",
    "## Server mode\n",
    "\n",
    ":::{note}\n",
    "In the examples above, bokeh is being used in `Standalone` mode.\n",
    "Bokeh can be also used to create interactive web applications. For more details see {ref}`Running a Bokeh server <bokeh:userguide_server>`.\n",
    ":::"
   ]
  }
 ],
 "metadata": {
  "jupytext": {
   "text_representation": {
    "extension": ".md",
    "format_name": "myst"
   }
  },
  "kernelspec": {
   "display_name": "Python 3 (ipykernel)",
   "language": "python",
   "name": "python3"
  },
  "language_info": {
   "codemirror_mode": {
    "name": "ipython",
    "version": 3
   },
   "file_extension": ".py",
   "mimetype": "text/x-python",
   "name": "python",
   "nbconvert_exporter": "python",
   "pygments_lexer": "ipython3",
   "version": "3.7.3"
  },
  "source_map": [
   10,
   20,
   30,
   46,
   51,
   57,
   71,
   86,
   96,
   108,
   112,
   124
  ]
 },
 "nbformat": 4,
 "nbformat_minor": 5
}